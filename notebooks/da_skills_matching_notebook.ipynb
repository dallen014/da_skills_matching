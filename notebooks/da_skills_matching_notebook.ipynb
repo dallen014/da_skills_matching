{
 "cells": [
  {
   "cell_type": "code",
   "execution_count": 1,
   "metadata": {},
   "outputs": [],
   "source": [
    "# pip installs\n",
    "from sklearn.preprocessing import OrdinalEncoder\n",
    "import pandas as pd\n",
    "import numpy as np\n",
    "\n",
    "# standard python\n",
    "import os\n",
    "import sys\n",
    "sys.path.append('../code')\n",
    "\n",
    "#custom functions\n",
    "from da_skills_matching import *\n",
    "\n",
    "# generate some data representing the population\n",
    "generate_survey_data(num_employees = 200,directory = ('../data'))\n",
    "generate_department_survey(directory ='../data' )\n",
    "\n",
    "#load data\n",
    "raw_tech_data = pd.read_csv('../data/technical_skills_survey.csv')\n",
    "raw_dept_data = pd.read_csv('../data/department_technical_skill.csv')\n",
    "\n",
    "# pre-proccess data\n",
    "pre_processed_tech_data = cosine_preprocessing(raw_tech_data)\n",
    "pre_processed_dept_data = cosine_preprocessing(raw_dept_data)"
   ]
  },
  {
   "cell_type": "code",
   "execution_count": null,
   "metadata": {},
   "outputs": [],
   "source": []
  }
 ],
 "metadata": {
  "kernelspec": {
   "display_name": "da_skills_matching",
   "language": "python",
   "name": "python3"
  },
  "language_info": {
   "codemirror_mode": {
    "name": "ipython",
    "version": 3
   },
   "file_extension": ".py",
   "mimetype": "text/x-python",
   "name": "python",
   "nbconvert_exporter": "python",
   "pygments_lexer": "ipython3",
   "version": "3.12.4"
  }
 },
 "nbformat": 4,
 "nbformat_minor": 2
}
